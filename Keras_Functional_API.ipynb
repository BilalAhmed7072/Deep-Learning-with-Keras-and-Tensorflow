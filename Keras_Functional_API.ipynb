{
  "nbformat": 4,
  "nbformat_minor": 0,
  "metadata": {
    "colab": {
      "provenance": [],
      "authorship_tag": "ABX9TyOzdy8Kx8zHisHe0PgfEAbr",
      "include_colab_link": true
    },
    "kernelspec": {
      "name": "python3",
      "display_name": "Python 3"
    },
    "language_info": {
      "name": "python"
    }
  },
  "cells": [
    {
      "cell_type": "markdown",
      "metadata": {
        "id": "view-in-github",
        "colab_type": "text"
      },
      "source": [
        "<a href=\"https://colab.research.google.com/github/BilalAhmed7072/Deep-Learning-with-Keras-and-Tensorflow/blob/main/Keras_Functional_API.ipynb\" target=\"_parent\"><img src=\"https://colab.research.google.com/assets/colab-badge.svg\" alt=\"Open In Colab\"/></a>"
      ]
    },
    {
      "cell_type": "markdown",
      "source": [
        "**Syntax**"
      ],
      "metadata": {
        "id": "pg531-0uy4z_"
      }
    },
    {
      "cell_type": "code",
      "source": [
        "from tensorflow.keras.models import Model\n",
        "from tensorflow.keras.layers import Input, Dense\n",
        "#define input layer\n",
        "inputs=Input(shape=(784,))\n",
        "#define dense layer\n",
        "x=Dense(64,activation='relu')(inputs)\n",
        "\n",
        "#define output layer\n",
        "outputs=Dense(10,activation='softmax')(x)\n",
        "#create model\n",
        "model=Model(inputs=inputs,outputs=outputs)"
      ],
      "metadata": {
        "id": "noWq2j16y-1u"
      },
      "execution_count": null,
      "outputs": []
    },
    {
      "cell_type": "markdown",
      "source": [
        "**handling multiple inputs and outputs**"
      ],
      "metadata": {
        "id": "6ikXQApA1mBJ"
      }
    },
    {
      "cell_type": "code",
      "source": [
        "from tensorflow.keras.layers import concatenate\n",
        "#define two set of inputs\n",
        "inputA=Input(shape=(64,))\n",
        "inputB=Input(shape=(128,))\n",
        "\n",
        "#first branch operate on the first input\n",
        "x=Dense(8,activation='relu')(inputA)\n",
        "x=Dense(4,activation='relu')(x)\n",
        "x=Model(inputs=inputs,outputs=x)\n",
        "\n",
        "#second branch operate on the second input\n",
        "y=Dense(16,activation='relu')(inputB)\n",
        "y=Dense(4,activation='relu')(y)\n",
        "y=Model(inputs=inputs,outputs=y)\n",
        "\n",
        "#combine the output of two branches\n",
        "combined=concatenate([x.output,y.output])\n",
        "\n",
        "#apply fully connected layer and apply regression on combined outputs\n",
        "z=Dense(2,activation='relu')(combined)\n",
        "z=Dense(1,activation='linear')(z)\n",
        "\n",
        "#model accept the input of two branches and output a single value\n",
        "model=Model(inputs=[x.input,y.input],outputs=z)"
      ],
      "metadata": {
        "id": "qE3Z_cv713JZ"
      },
      "execution_count": null,
      "outputs": []
    },
    {
      "cell_type": "markdown",
      "source": [
        "**Shared layers and complex architecture**"
      ],
      "metadata": {
        "id": "p8rU1ai37poK"
      }
    },
    {
      "cell_type": "markdown",
      "source": [
        "shared layers are helpful when applying the same transformation on multiple inputs"
      ],
      "metadata": {
        "id": "t5BU5PwouUmX"
      }
    },
    {
      "cell_type": "code",
      "source": [
        "from tensorflow.keras.layers import Lambda\n",
        "#define input\n",
        "input =Input(shape=(28,28,1))\n",
        "#deine shared convultional base\n",
        "conv_base =Dense(64,activation='relu')\n",
        "#process input through shared layer\n",
        "processed_1= conv_base(input)\n",
        "processed_2 = conv_base(input)\n",
        "#create model\n",
        "model=Model(inputs=Input,outputs=[processed_1,processed_2])"
      ],
      "metadata": {
        "id": "4S3-d-gd7yOd"
      },
      "execution_count": null,
      "outputs": []
    },
    {
      "cell_type": "markdown",
      "source": [
        "**Practical example**"
      ],
      "metadata": {
        "id": "J-QyyUAg_8jj"
      }
    },
    {
      "cell_type": "markdown",
      "source": [
        "implementing a complex model"
      ],
      "metadata": {
        "id": "OhMCP_1KutSm"
      }
    },
    {
      "cell_type": "code",
      "source": [
        "from tensorflow.keras.layers import Conv2D, MaxPooling2D, Flatten, Input, Dense, Concatenate\n",
        "from tensorflow.keras.activations import relu, linear\n",
        "from tensorflow.keras.models import Model\n",
        "\n",
        "# First input model\n",
        "inputA = Input(shape=(32, 32, 1))\n",
        "x = Conv2D(32, (3, 3), activation='relu')(inputA)\n",
        "x = MaxPooling2D((2, 2))(x)\n",
        "x = Flatten()(x)\n",
        "x = Model(inputs=inputA, outputs=x)\n",
        "\n",
        "# Second input model\n",
        "inputB = Input(shape=(32, 32, 1))\n",
        "y = Conv2D(32, (3, 3), activation='relu')(inputB)\n",
        "y = MaxPooling2D((2, 2))(y)\n",
        "y = Flatten()(y)\n",
        "y = Model(inputs=inputB, outputs=y)\n",
        "\n",
        "# Combine both outputs\n",
        "combined = Concatenate()([x.output, y.output])\n",
        "\n",
        "# Final dense layers\n",
        "z = Dense(64, activation=relu)(combined)\n",
        "z = Dense(1, activation=linear)(z)\n",
        "\n",
        "# Final model with two inputs\n",
        "model = Model(inputs=[x.input, y.input], outputs=z)\n"
      ],
      "metadata": {
        "id": "vI9ypi4n2s_o"
      },
      "execution_count": 20,
      "outputs": []
    }
  ]
}