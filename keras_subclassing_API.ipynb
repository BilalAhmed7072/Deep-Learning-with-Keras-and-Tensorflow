{
  "nbformat": 4,
  "nbformat_minor": 0,
  "metadata": {
    "colab": {
      "provenance": [],
      "authorship_tag": "ABX9TyNbgbAh9qOZxI95RsjBQ8OA",
      "include_colab_link": true
    },
    "kernelspec": {
      "name": "python3",
      "display_name": "Python 3"
    },
    "language_info": {
      "name": "python"
    }
  },
  "cells": [
    {
      "cell_type": "markdown",
      "metadata": {
        "id": "view-in-github",
        "colab_type": "text"
      },
      "source": [
        "<a href=\"https://colab.research.google.com/github/BilalAhmed7072/Deep-Learning-with-Keras-and-Tensorflow/blob/main/keras_subclassing_API.ipynb\" target=\"_parent\"><img src=\"https://colab.research.google.com/assets/colab-badge.svg\" alt=\"Open In Colab\"/></a>"
      ]
    },
    {
      "cell_type": "code",
      "execution_count": 4,
      "metadata": {
        "id": "DyUaYmT5s5b-"
      },
      "outputs": [],
      "source": [
        "import tensorflow as tf\n",
        "class mymodel(tf.keras.Model):\n",
        "  def __init__(self):\n",
        "    super(mymodel,self).__init__()\n",
        "    self.Dense1=tf.keras.layers.Dense(64,activation='relu')\n",
        "    self.Dense2=tf.keras.layers.Dense(10,activation='softmax')\n",
        "    def call(self,inputs):\n",
        "      x=self.Dense1(inputs)\n",
        "      return self.Dense2(x)\n",
        "      model=mymodel()\n",
        "      loss_fn =tf.keras.losses.SparseCategoricalCrossentropy()\n",
        "      optimizer=tf.keras.optimizers.Adam()\n"
      ]
    }
  ]
}