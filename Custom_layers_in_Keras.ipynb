{
  "nbformat": 4,
  "nbformat_minor": 0,
  "metadata": {
    "colab": {
      "provenance": [],
      "authorship_tag": "ABX9TyOtDmhtp/yk+QAAARHocvXn",
      "include_colab_link": true
    },
    "kernelspec": {
      "name": "python3",
      "display_name": "Python 3"
    },
    "language_info": {
      "name": "python"
    }
  },
  "cells": [
    {
      "cell_type": "markdown",
      "metadata": {
        "id": "view-in-github",
        "colab_type": "text"
      },
      "source": [
        "<a href=\"https://colab.research.google.com/github/BilalAhmed7072/Deep-Learning-with-Keras-and-Tensorflow/blob/main/Custom_layers_in_Keras.ipynb\" target=\"_parent\"><img src=\"https://colab.research.google.com/assets/colab-badge.svg\" alt=\"Open In Colab\"/></a>"
      ]
    },
    {
      "cell_type": "markdown",
      "source": [
        "Used for new algorithm and techniques,\n",
        "enhanced flexibility,\n",
        "optimize performance,\n",
        "we can create layers according to our need\n",
        "\n",
        "\n"
      ],
      "metadata": {
        "id": "Hv_xMulHQrZY"
      }
    },
    {
      "cell_type": "markdown",
      "source": [
        "**Basics of Creating custom layers**"
      ],
      "metadata": {
        "id": "a_CFPrXXSInd"
      }
    },
    {
      "cell_type": "code",
      "execution_count": 1,
      "metadata": {
        "colab": {
          "base_uri": "https://localhost:8080/"
        },
        "id": "yZk7J1fA4eZW",
        "outputId": "58f90505-65bb-4b50-8ddc-9d8e1da1e35f"
      },
      "outputs": [
        {
          "output_type": "stream",
          "name": "stdout",
          "text": [
            "Input:\n",
            "[[1. 2. 3.]]\n",
            "\n",
            "Weights:\n",
            "[[ 0.00969952 -0.06123686]\n",
            " [ 0.01403055  0.00922152]\n",
            " [-0.0581724  -0.00182037]]\n",
            "\n",
            "Bias:\n",
            "[0. 0.]\n",
            "\n",
            "Output:\n",
            "[[-0.13675658 -0.04825491]]\n"
          ]
        }
      ],
      "source": [
        "import tensorflow as tf\n",
        "from tensorflow.keras.layers import Layer\n",
        "\n",
        "# 🔹 Step 1: Define the custom layer\n",
        "class MyDenseLayer(Layer):\n",
        "    def __init__(self, units=32):\n",
        "        \"\"\"\n",
        "        Constructor: This is where you define the configuration.\n",
        "        You don't create weights here, only store configs like 'units'.\n",
        "        \"\"\"\n",
        "        super(MyDenseLayer, self).__init__()  # call parent class constructor\n",
        "        self.units = units  # number of neurons in this layer\n",
        "\n",
        "    def build(self, input_shape):\n",
        "        \"\"\"\n",
        "        This method is automatically called the first time the layer is used.\n",
        "        Here we create the trainable weights using input shape info.\n",
        "        \"\"\"\n",
        "        # input_shape[-1] is the number of features (input neurons)\n",
        "        self.w = self.add_weight(\n",
        "            name=\"kernel\",\n",
        "            shape=(input_shape[-1], self.units),  # [input_dim, output_dim]\n",
        "            initializer=\"random_normal\",\n",
        "            trainable=True\n",
        "        )\n",
        "\n",
        "        self.b = self.add_weight(\n",
        "            name=\"bias\",\n",
        "            shape=(self.units,),  # one bias per output unit\n",
        "            initializer=\"zeros\",\n",
        "            trainable=True\n",
        "        )\n",
        "\n",
        "    def call(self, inputs):\n",
        "        \"\"\"\n",
        "        Forward pass logic: This is where the layer processes inputs.\n",
        "        Here we apply: output = inputs * weights + bias\n",
        "        \"\"\"\n",
        "        return tf.matmul(inputs, self.w) + self.b\n",
        "\n",
        "\n",
        "#  Step 2: Use the custom layer\n",
        "# Create some sample input data: 1 sample, 3 input features\n",
        "x = tf.constant([[1.0, 2.0, 3.0]])\n",
        "\n",
        "# Create an instance of our custom layer with 2 output units\n",
        "my_layer = MyDenseLayer(units=2)\n",
        "\n",
        "# Pass input through the layer (this will trigger build() automatically)\n",
        "output = my_layer(x)\n",
        "\n",
        "#  Step 3: Print results\n",
        "print(\"Input:\")\n",
        "print(x.numpy())\n",
        "\n",
        "print(\"\\nWeights:\")\n",
        "print(my_layer.w.numpy())\n",
        "\n",
        "print(\"\\nBias:\")\n",
        "print(my_layer.b.numpy())\n",
        "\n",
        "print(\"\\nOutput:\")\n",
        "print(output.numpy())\n"
      ]
    }
  ]
}