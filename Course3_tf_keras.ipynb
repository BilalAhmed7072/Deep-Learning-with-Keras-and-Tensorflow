{
  "nbformat": 4,
  "nbformat_minor": 0,
  "metadata": {
    "colab": {
      "provenance": [],
      "authorship_tag": "ABX9TyOOaLzAtbWyTWtZFz1v+kwa",
      "include_colab_link": true
    },
    "kernelspec": {
      "name": "python3",
      "display_name": "Python 3"
    },
    "language_info": {
      "name": "python"
    }
  },
  "cells": [
    {
      "cell_type": "markdown",
      "metadata": {
        "id": "view-in-github",
        "colab_type": "text"
      },
      "source": [
        "<a href=\"https://colab.research.google.com/github/BilalAhmed7072/Deep-Learning-with-Keras-and-Tensorflow/blob/main/Course3_tf_keras.ipynb\" target=\"_parent\"><img src=\"https://colab.research.google.com/assets/colab-badge.svg\" alt=\"Open In Colab\"/></a>"
      ]
    },
    {
      "cell_type": "code",
      "execution_count": null,
      "metadata": {
        "id": "AHHo68hpdqx_"
      },
      "outputs": [],
      "source": [
        "import tensorflow as tf"
      ]
    },
    {
      "cell_type": "code",
      "source": [
        "from tensorflow.keras.models import Sequential\n",
        "from tensorflow.keras.layers import Dense"
      ],
      "metadata": {
        "id": "r4nQQEfveAOe"
      },
      "execution_count": null,
      "outputs": []
    },
    {
      "cell_type": "code",
      "source": [
        "model =Sequential([Dense(64,activation='relu',input_shape=(784,)),\n",
        "                   Dense(10,activation='softmax')])"
      ],
      "metadata": {
        "colab": {
          "base_uri": "https://localhost:8080/"
        },
        "id": "j7z0dUooe00R",
        "outputId": "657f2b9c-f4d0-4db4-e0ce-58b305ee85c4"
      },
      "execution_count": null,
      "outputs": [
        {
          "output_type": "stream",
          "name": "stderr",
          "text": [
            "/usr/local/lib/python3.11/dist-packages/keras/src/layers/core/dense.py:87: UserWarning: Do not pass an `input_shape`/`input_dim` argument to a layer. When using Sequential models, prefer using an `Input(shape)` object as the first layer in the model instead.\n",
            "  super().__init__(activity_regularizer=activity_regularizer, **kwargs)\n"
          ]
        }
      ]
    },
    {
      "cell_type": "code",
      "source": [
        "model.compile(optimizer='adam',loss='sparse_categorical_crossentropy',metrics=['accuracy'])"
      ],
      "metadata": {
        "id": "Qi3MVzbZgB3Y"
      },
      "execution_count": null,
      "outputs": []
    },
    {
      "cell_type": "markdown",
      "source": [
        "**FUNCTIONAL API**"
      ],
      "metadata": {
        "id": "MKk1lroWg5p6"
      }
    },
    {
      "cell_type": "code",
      "source": [
        "import tensorflow as tf"
      ],
      "metadata": {
        "id": "ZL9myEd0hGGh"
      },
      "execution_count": null,
      "outputs": []
    },
    {
      "cell_type": "code",
      "source": [
        "from tensorflow.keras.models import Model"
      ],
      "metadata": {
        "id": "eIGuuu1UhvKi"
      },
      "execution_count": null,
      "outputs": []
    },
    {
      "cell_type": "code",
      "source": [
        "from tensorflow.keras.layers import Input , Dense"
      ],
      "metadata": {
        "id": "040EHuuTkL10"
      },
      "execution_count": null,
      "outputs": []
    },
    {
      "cell_type": "code",
      "source": [
        "#define inputs\n",
        "inputs =Input(shape=(784,))"
      ],
      "metadata": {
        "id": "w5Qc2XPdkWfq"
      },
      "execution_count": null,
      "outputs": []
    },
    {
      "cell_type": "code",
      "source": [
        "#define layers\n",
        "x=Dense(64,activation='relu')(inputs)\n",
        "outputs = Dense(10,activation='softmax')(x)"
      ],
      "metadata": {
        "id": "3VAxCe7tkyDe"
      },
      "execution_count": null,
      "outputs": []
    },
    {
      "cell_type": "code",
      "source": [
        "#create model\n",
        "model =Model(inputs=inputs, outputs=outputs)"
      ],
      "metadata": {
        "id": "B8cgndE7ljrR"
      },
      "execution_count": null,
      "outputs": []
    },
    {
      "cell_type": "code",
      "source": [
        "#compile model\n",
        "model.compile(optimizer='adam',loss='sparse_categorical_crossentopy',metrics=['accuracy'])"
      ],
      "metadata": {
        "id": "LVApI0i3l5jG"
      },
      "execution_count": null,
      "outputs": []
    },
    {
      "cell_type": "markdown",
      "source": [
        "**complex input**"
      ],
      "metadata": {
        "id": "4RrnhENLn7Jr"
      }
    },
    {
      "cell_type": "code",
      "source": [
        "from tensorflow.keras.layers import Concatenate\n",
        "from tensorflow.keras.models import Model\n",
        "from tensorflow.keras.layers import Input , Dense\n",
        "#two inputs\n",
        "inputA=Input(shape=(64,))\n",
        "inputB=Input(shape=(128,))\n",
        "\n",
        "x=Dense(8,activation='relu')(inputA)\n",
        "x=Dense(4,activation='relu')(x)\n",
        "\n",
        "\n",
        "y=Dense(16,activation='relu')(inputB)\n",
        "y=Dense(4,activation='relu')(y)\n",
        "\n",
        "#output is combined\n",
        "combined=concatenate([x,y])\n",
        "\n",
        "z=Dense(2,activation='relu')(combined)\n",
        "z=Dense(1,activation='relu')(z)\n",
        "\n",
        "\n",
        "#create model\n",
        "\n",
        "model=Model(inputs=[inputA,inputB],outputs=z)\n",
        "model.compile(optimizer='adam',loss='mean_squared_error')\n"
      ],
      "metadata": {
        "id": "OKrgubk6oJUY"
      },
      "execution_count": null,
      "outputs": []
    },
    {
      "cell_type": "code",
      "source": [],
      "metadata": {
        "id": "KvGGgNNlsp19"
      },
      "execution_count": null,
      "outputs": []
    }
  ]
}